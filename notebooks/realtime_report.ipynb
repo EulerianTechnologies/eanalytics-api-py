{
 "cells": [
  {
   "cell_type": "code",
   "execution_count": null,
   "metadata": {},
   "outputs": [],
   "source": [
    "from  eanalytics_api_py import Conn\n",
    "\n",
    "gridpool_name = 'dem'\n",
    "datacenter = 'com'\n",
    "website_name = 'demo'\n",
    "report_name = 'insummary'\n",
    "\n",
    "api_key = '' # your api token\n",
    "\n",
    "date_from = '09/23/2020'\n",
    "date_to = '09/25/2020'\n",
    "\n",
    "payload = {\n",
    "    'date-from' : date_from,\n",
    "    'date-to' : date_to,\n",
    "    'view-id' : '0',\n",
    "    'date-scale' : 'D',\n",
    "    'dd-dt' : 'visit',\n",
    "}\n",
    "\n",
    "conn = Conn(\n",
    "    gridpool_name=gridpool_name,\n",
    "    datacenter=datacenter,\n",
    "    api_key=api_key,\n",
    "    log_level=\"info\"\n",
    ")\n",
    "\n",
    "df = conn.download_realtime_report(\n",
    "    website_name = website_name,\n",
    "    report_name = report_name,\n",
    "    payload=payload\n",
    ")\n",
    "display(df.info(), df.head())"
   ]
  }
 ],
 "metadata": {
  "kernelspec": {
   "display_name": "Python 3",
   "language": "python",
   "name": "python3"
  },
  "language_info": {
   "codemirror_mode": {
    "name": "ipython",
    "version": 3
   },
   "file_extension": ".py",
   "mimetype": "text/x-python",
   "name": "python",
   "nbconvert_exporter": "python",
   "pygments_lexer": "ipython3",
   "version": "3.6.9"
  }
 },
 "nbformat": 4,
 "nbformat_minor": 4
}
