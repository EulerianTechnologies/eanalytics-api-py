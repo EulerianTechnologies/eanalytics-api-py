{
 "cells": [
  {
   "cell_type": "code",
   "execution_count": null,
   "metadata": {},
   "outputs": [],
   "source": [
    "from  eanalytics_api_py import Conn, eaload\n",
    "import time\n",
    "\n",
    "gridpool_name = \"demo\"\n",
    "datacenter = \"com\"\n",
    "website_name = \"demo\"\n",
    "api_key = \"\"\n",
    "\n",
    "\n",
    "date_from = '09/01/2020 00:00:00'\n",
    "date_to = '09/02/2020 00:00:00'\n",
    "pattern = '%m/%d/%Y %H:%M:%S'\n",
    "epoch_from = int(time.mktime(time.strptime(date_from, pattern)))\n",
    "epoch_to = int(time.mktime(time.strptime(date_to, pattern)))\n",
    "\n",
    "conn = Conn(\n",
    "        gridpool_name=gridpool_name,\n",
    "        datacenter='com',\n",
    "        api_key=api_key,\n",
    "        print_log=True\n",
    ")\n",
    "\n",
    "query = \"\"\"\n",
    "GET {{\n",
    "    TIMERANGE {{ {epoch_from} {epoch_to} }}\n",
    "    READERS {{ \n",
    "        ea:clickview@{website_name} AS clickview\n",
    "    }}\n",
    "    OUTPUTS_ROW (clickview) {{\n",
    "        clickview.timestamp,\n",
    "        clickview.uid,\n",
    "        clickview.type,\n",
    "        clickview.channel.odmedia,\n",
    "        clickview.channel.odata.publisher.name,\n",
    "        clickview.channel.odata.ope.name,\n",
    "        clickview.channel.odata.location.name,\n",
    "        clickview.channel.odata.creative.name\n",
    "    }}\n",
    "}};\"\"\".format(\n",
    "    website_name=website_name,\n",
    "    epoch_from=epoch_from,\n",
    "    epoch_to=epoch_to\n",
    ")\n",
    "\n",
    "\n",
    "\n",
    "path2file = conn.download_edw(\n",
    "    query=query,\n",
    "    override_file=True,\n",
    ")\n",
    "\n",
    "df = eaload.generic.csv_files_2_df(path2file)\n",
    "display(df.info(), df.head())"
   ]
  }
 ],
 "metadata": {
  "kernelspec": {
   "display_name": "Python 3",
   "language": "python",
   "name": "python3"
  },
  "language_info": {
   "codemirror_mode": {
    "name": "ipython",
    "version": 3
   },
   "file_extension": ".py",
   "mimetype": "text/x-python",
   "name": "python",
   "nbconvert_exporter": "python",
   "pygments_lexer": "ipython3",
   "version": "3.6.9"
  }
 },
 "nbformat": 4,
 "nbformat_minor": 4
}
