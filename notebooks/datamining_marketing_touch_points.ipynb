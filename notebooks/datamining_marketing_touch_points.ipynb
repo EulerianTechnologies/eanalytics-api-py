{
 "cells": [
  {
   "cell_type": "code",
   "execution_count": null,
   "metadata": {},
   "outputs": [],
   "source": [
    "from  eanalytics_api_py import Conn, eaload, earequest\n",
    "\n",
    "gridpool_name = 'dem' # your grid in eulerian platform\n",
    "datacenter = 'com' # your datacenter in eulerian platform\n",
    "website_name = 'demo' # your website_name in eulerian platform\n",
    "api_key = '' # insert API key here\n",
    "datamining_type = 'order'\n",
    "_from =  '09/20/2020'\n",
    "_to =  '09/20/2020'\n",
    "\n",
    "conn = Conn(\n",
    "    gridpool_name=gridpool_name,\n",
    "    datacenter=datacenter,\n",
    "    api_key=api_key,\n",
    "    print_log=True\n",
    ")\n",
    "\n",
    "payload = {\n",
    "    'date-from': _from,\n",
    "    'date-to': _to,\n",
    "    **earequest.datamining.payload.channel,\n",
    "}\n",
    "\n",
    "path2file = conn.download_datamining(\n",
    "    website_name = website_name,\n",
    "    datamining_type = datamining_type,\n",
    "    payload=payload,\n",
    "    output_directory = '',\n",
    "    n_days_slice=7,\n",
    "    override_file=True,\n",
    ")\n",
    "df_norm = eaload.generic.csv_files_2_df(path2file)\n",
    "display(df_norm.info(), df_norm.head())\n",
    "\n",
    "df_dedup = eaload.datamining.deduplicate_touchpoints(path2file)\n",
    "display(df_dedup.info(), df_dedup.head())"
   ]
  }
 ],
 "metadata": {
  "kernelspec": {
   "display_name": "Python 3",
   "language": "python",
   "name": "python3"
  },
  "language_info": {
   "codemirror_mode": {
    "name": "ipython",
    "version": 3
   },
   "file_extension": ".py",
   "mimetype": "text/x-python",
   "name": "python",
   "nbconvert_exporter": "python",
   "pygments_lexer": "ipython3",
   "version": "3.6.9"
  }
 },
 "nbformat": 4,
 "nbformat_minor": 4
}
