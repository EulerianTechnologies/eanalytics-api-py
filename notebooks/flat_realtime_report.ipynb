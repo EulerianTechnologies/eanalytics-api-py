{
 "cells": [
  {
   "cell_type": "code",
   "execution_count": null,
   "metadata": {},
   "outputs": [],
   "source": [
    "from  eanalytics_api_py import Conn\n",
    "\n",
    "gridpool_name = 'dem'\n",
    "datacenter = 'com'\n",
    "website_name = 'demo'\n",
    "report_name = 'insummary'\n",
    "\n",
    "api_key = '' # your api token\n",
    "\n",
    "date_from = '10/20/2020'\n",
    "date_to = '10/20/2020'\n",
    "kpi=[\"click\"]\n",
    "view_id = 0\n",
    "\n",
    "path_dim_map={\n",
    "    #\"mcMEDIAINCOMING[%d].mcMEDIAAD.mcOPE[%d].mcLOCATION\":[\"location_name\", \"locationalias_alias\", \"publisheralias_alias\"],\n",
    "    \"mcMEDIAINCOMING[%d].mcMEDIAML.mcOPE\":[\"media_key\", \"publisheralias_alias\", \"opealias_alias\", \"submedia_name\"],\n",
    "}\n",
    "\n",
    "\n",
    "conn = Conn(\n",
    "    gridpool_name=gridpool_name,\n",
    "    datacenter=datacenter,\n",
    "    api_key=api_key,\n",
    "    print_log=True\n",
    ")\n",
    "\n",
    "display(\n",
    "    \"Attribution rules:\",\n",
    "    conn.get_view_id_name_map(website_name),\n",
    "    \"Devices:\",\n",
    "    conn.get_mdevicetype_id_name_map(website_name),\n",
    "    \"Order type:\",\n",
    "    conn.get_ordertype_id_name_map(website_name),\n",
    "    \"Order type custom:\",\n",
    "    conn.get_ordertypecustom_id_name_map(website_name),\n",
    "    \"Profile:\",\n",
    "    conn.get_profile_id_name_map(website_name),\n",
    ")"
   ]
  },
  {
   "cell_type": "code",
   "execution_count": null,
   "metadata": {},
   "outputs": [],
   "source": [
    "df = conn.download_flat_realtime_report(\n",
    "                date_from=date_from,\n",
    "                date_to=date_to,\n",
    "                report_name=report_name,\n",
    "                website_name = get_website_name,\n",
    "                path_dim_map=path_dim_map,\n",
    "                kpi=kpi,\n",
    "                view_id=0,\n",
    "                #profile_id=[],\n",
    "                #mdevicetype_id=[],\n",
    "                #ordertype_id=[],\n",
    "                #ordertypecustom_id=[]\n",
    ")\n",
    "\n",
    "display(\n",
    "    df.info(),\n",
    "    df.head()\n",
    ")"
   ]
  }
 ],
 "metadata": {
  "kernelspec": {
   "display_name": "Python 3",
   "language": "python",
   "name": "python3"
  },
  "language_info": {
   "codemirror_mode": {
    "name": "ipython",
    "version": 3
   },
   "file_extension": ".py",
   "mimetype": "text/x-python",
   "name": "python",
   "nbconvert_exporter": "python",
   "pygments_lexer": "ipython3",
   "version": "3.6.9"
  }
 },
 "nbformat": 4,
 "nbformat_minor": 4
}
